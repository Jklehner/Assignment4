{
 "cells": [
  {
   "cell_type": "code",
   "execution_count": 282,
   "metadata": {},
   "outputs": [
    {
     "data": {
      "text/html": [
       "<div>\n",
       "<style scoped>\n",
       "    .dataframe tbody tr th:only-of-type {\n",
       "        vertical-align: middle;\n",
       "    }\n",
       "\n",
       "    .dataframe tbody tr th {\n",
       "        vertical-align: top;\n",
       "    }\n",
       "\n",
       "    .dataframe thead th {\n",
       "        text-align: right;\n",
       "    }\n",
       "</style>\n",
       "<table border=\"1\" class=\"dataframe\">\n",
       "  <thead>\n",
       "    <tr style=\"text-align: right;\">\n",
       "      <th></th>\n",
       "      <th>Confirmed</th>\n",
       "      <th>Deaths</th>\n",
       "      <th>Recovered</th>\n",
       "      <th>Active</th>\n",
       "    </tr>\n",
       "    <tr>\n",
       "      <th>Country/Region</th>\n",
       "      <th></th>\n",
       "      <th></th>\n",
       "      <th></th>\n",
       "      <th></th>\n",
       "    </tr>\n",
       "  </thead>\n",
       "  <tbody>\n",
       "    <tr>\n",
       "      <th>Afghanistan</th>\n",
       "      <td>36263</td>\n",
       "      <td>1269</td>\n",
       "      <td>25198</td>\n",
       "      <td>9796</td>\n",
       "    </tr>\n",
       "    <tr>\n",
       "      <th>Albania</th>\n",
       "      <td>4880</td>\n",
       "      <td>144</td>\n",
       "      <td>2745</td>\n",
       "      <td>1991</td>\n",
       "    </tr>\n",
       "    <tr>\n",
       "      <th>Algeria</th>\n",
       "      <td>27973</td>\n",
       "      <td>1163</td>\n",
       "      <td>18837</td>\n",
       "      <td>7973</td>\n",
       "    </tr>\n",
       "    <tr>\n",
       "      <th>Andorra</th>\n",
       "      <td>907</td>\n",
       "      <td>52</td>\n",
       "      <td>803</td>\n",
       "      <td>52</td>\n",
       "    </tr>\n",
       "    <tr>\n",
       "      <th>Angola</th>\n",
       "      <td>950</td>\n",
       "      <td>41</td>\n",
       "      <td>242</td>\n",
       "      <td>667</td>\n",
       "    </tr>\n",
       "    <tr>\n",
       "      <th>...</th>\n",
       "      <td>...</td>\n",
       "      <td>...</td>\n",
       "      <td>...</td>\n",
       "      <td>...</td>\n",
       "    </tr>\n",
       "    <tr>\n",
       "      <th>West Bank and Gaza</th>\n",
       "      <td>10621</td>\n",
       "      <td>78</td>\n",
       "      <td>3752</td>\n",
       "      <td>6791</td>\n",
       "    </tr>\n",
       "    <tr>\n",
       "      <th>Western Sahara</th>\n",
       "      <td>10</td>\n",
       "      <td>1</td>\n",
       "      <td>8</td>\n",
       "      <td>1</td>\n",
       "    </tr>\n",
       "    <tr>\n",
       "      <th>Yemen</th>\n",
       "      <td>1691</td>\n",
       "      <td>483</td>\n",
       "      <td>833</td>\n",
       "      <td>375</td>\n",
       "    </tr>\n",
       "    <tr>\n",
       "      <th>Zambia</th>\n",
       "      <td>4552</td>\n",
       "      <td>140</td>\n",
       "      <td>2815</td>\n",
       "      <td>1597</td>\n",
       "    </tr>\n",
       "    <tr>\n",
       "      <th>Zimbabwe</th>\n",
       "      <td>2704</td>\n",
       "      <td>36</td>\n",
       "      <td>542</td>\n",
       "      <td>2126</td>\n",
       "    </tr>\n",
       "  </tbody>\n",
       "</table>\n",
       "<p>187 rows × 4 columns</p>\n",
       "</div>"
      ],
      "text/plain": [
       "                    Confirmed  Deaths  Recovered  Active\n",
       "Country/Region                                          \n",
       "Afghanistan             36263    1269      25198    9796\n",
       "Albania                  4880     144       2745    1991\n",
       "Algeria                 27973    1163      18837    7973\n",
       "Andorra                   907      52        803      52\n",
       "Angola                    950      41        242     667\n",
       "...                       ...     ...        ...     ...\n",
       "West Bank and Gaza      10621      78       3752    6791\n",
       "Western Sahara             10       1          8       1\n",
       "Yemen                    1691     483        833     375\n",
       "Zambia                   4552     140       2815    1597\n",
       "Zimbabwe                 2704      36        542    2126\n",
       "\n",
       "[187 rows x 4 columns]"
      ]
     },
     "execution_count": 282,
     "metadata": {},
     "output_type": "execute_result"
    }
   ],
   "source": [
    "import pandas as pd\n",
    "from sklearn.cluster import KMeans\n",
    "import matplotlib.pyplot as plt\n",
    "from sklearn.cluster import MiniBatchKMeans\n",
    "import numpy as np\n",
    "from sklearn.decomposition import PCA\n",
    "df=pd.read_csv('country_wise_latest.csv')\n",
    "df=df[['Country/Region', 'Confirmed', 'Deaths', 'Recovered', 'Active']]\n",
    "df=df.set_index('Country/Region')\n",
    "df\n"
   ]
  },
  {
   "cell_type": "code",
   "execution_count": 283,
   "metadata": {},
   "outputs": [],
   "source": [
    "country_map = df.to_dict(orient='index')"
   ]
  },
  {
   "cell_type": "code",
   "execution_count": 284,
   "metadata": {},
   "outputs": [
    {
     "data": {
      "image/png": "[encoded data removed]",
      "text/plain": [
       "<Figure size 640x480 with 1 Axes>"
      ]
     },
     "metadata": {},
     "output_type": "display_data"
    }
   ],
   "source": [
    "elbow_scores = dict()\n",
    "range_of_k = range(1,10) \n",
    "for k in range_of_k :\n",
    " untrained_model = KMeans(n_clusters=k)\n",
    " trained_model=untrained_model.fit(df)\n",
    " elbow_scores[k]=trained_model.inertia_\n",
    " \n",
    "plt.plot(elbow_scores.keys(),elbow_scores.values())\n",
    "plt.scatter(elbow_scores.keys(),elbow_scores.values())\n",
    "plt.xlabel(\"Values of K\") \n",
    "plt.ylabel(\"Sum of squared distances\") \n",
    "plt.show()\n"
   ]
  },
  {
   "cell_type": "code",
   "execution_count": 285,
   "metadata": {},
   "outputs": [],
   "source": [
    "country_map = df.to_dict(orient='index')"
   ]
  },
  {
   "cell_type": "code",
   "execution_count": 286,
   "metadata": {},
   "outputs": [
    {
     "name": "stdout",
     "output_type": "stream",
     "text": [
      "Cluster: 0 Size: 167\n",
      "\t United Kingdom\n",
      "\t Iran\n",
      "\t Mexico\n",
      "\t Italy\n",
      "\t Pakistan\n",
      "Cluster: 1 Size: 167\n",
      "\t US\n",
      "Cluster: 2 Size: 167\n",
      "\t Brazil\n",
      "Cluster: 3 Size: 167\n",
      "\t India\n",
      "\t Russia\n",
      "Cluster: 4 Size: 167\n",
      "\t Western Sahara\n",
      "\t Armenia\n",
      "\t Vietnam\n",
      "\t Moldova\n",
      "\t South Sudan\n"
     ]
    }
   ],
   "source": [
    "from sklearn.cluster import KMeans\n",
    "k = 5\n",
    "cluster_model = KMeans(n_clusters=k)\n",
    "cluster_model.fit(df)\n",
    "KMeans()\n",
    "cluster_labels = cluster_model.predict(df)\n",
    "country_cluster_df = pd.DataFrame(cluster_labels, index=df.index, columns=[\"cluster\"])\n",
    "country_cluster_df[\"cluster\"].value_counts()\n",
    "for cluster, country in country_cluster_df.groupby(\"cluster\"):\n",
    "    print(\"Cluster:\", cluster, \"Size:\", songs.shape[0])\n",
    "    \n",
    "    num_samples = min(5, len(country))\n",
    "    for a_id in country.sample(num_samples).index:\n",
    "        print(\"\\t\", a_id)\n"
   ]
  },
  {
   "cell_type": "code",
   "execution_count": 287,
   "metadata": {},
   "outputs": [
    {
     "data": {
      "image/png": "[encoded data removed]",
      "text/plain": [
       "<Figure size 640x480 with 1 Axes>"
      ]
     },
     "metadata": {},
     "output_type": "display_data"
    }
   ],
   "source": [
    "pca = PCA(2)\n",
    "df = pca.fit_transform(df)\n",
    "c_labels = np.unique(cluster_labels)\n",
    " \n",
    "for i in c_labels:\n",
    "    plt.scatter(df[cluster_labels == i , 0] , df[cluster_labels == i , 1] , label = i)\n",
    "plt.legend()\n",
    "plt.show()"
   ]
  }
 ],
 "metadata": {
  "kernelspec": {
   "display_name": "Python 3",
   "language": "python",
   "name": "python3"
  },
  "language_info": {
   "codemirror_mode": {
    "name": "ipython",
    "version": 3
   },
   "file_extension": ".py",
   "mimetype": "text/x-python",
   "name": "python",
   "nbconvert_exporter": "python",
   "pygments_lexer": "ipython3",
   "version": "3.11.3"
  },
  "orig_nbformat": 4
 },
 "nbformat": 4,
 "nbformat_minor": 2
}

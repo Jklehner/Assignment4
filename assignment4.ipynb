{
 "cells": [
  {
   "cell_type": "code",
   "execution_count": 80,
   "metadata": {},
   "outputs": [
    {
     "data": {
      "text/html": [
       "<div>\n",
       "<style scoped>\n",
       "    .dataframe tbody tr th:only-of-type {\n",
       "        vertical-align: middle;\n",
       "    }\n",
       "\n",
       "    .dataframe tbody tr th {\n",
       "        vertical-align: top;\n",
       "    }\n",
       "\n",
       "    .dataframe thead th {\n",
       "        text-align: right;\n",
       "    }\n",
       "</style>\n",
       "<table border=\"1\" class=\"dataframe\">\n",
       "  <thead>\n",
       "    <tr style=\"text-align: right;\">\n",
       "      <th></th>\n",
       "      <th>Lead_Streams</th>\n",
       "      <th>Feats</th>\n",
       "      <th>Tracks</th>\n",
       "    </tr>\n",
       "    <tr>\n",
       "      <th>Artist_Name</th>\n",
       "      <th></th>\n",
       "      <th></th>\n",
       "      <th></th>\n",
       "    </tr>\n",
       "  </thead>\n",
       "  <tbody>\n",
       "    <tr>\n",
       "      <th>Drake</th>\n",
       "      <td>50162292808</td>\n",
       "      <td>19246513666</td>\n",
       "      <td>262</td>\n",
       "    </tr>\n",
       "    <tr>\n",
       "      <th>Bad Bunny</th>\n",
       "      <td>44369032140</td>\n",
       "      <td>5391990975</td>\n",
       "      <td>163</td>\n",
       "    </tr>\n",
       "    <tr>\n",
       "      <th>Ed Sheeran</th>\n",
       "      <td>38153682361</td>\n",
       "      <td>2791278201</td>\n",
       "      <td>240</td>\n",
       "    </tr>\n",
       "    <tr>\n",
       "      <th>The Weeknd</th>\n",
       "      <td>34767779741</td>\n",
       "      <td>4288903657</td>\n",
       "      <td>186</td>\n",
       "    </tr>\n",
       "    <tr>\n",
       "      <th>Taylor Swift</th>\n",
       "      <td>32596728109</td>\n",
       "      <td>424053296</td>\n",
       "      <td>323</td>\n",
       "    </tr>\n",
       "    <tr>\n",
       "      <th>...</th>\n",
       "      <td>...</td>\n",
       "      <td>...</td>\n",
       "      <td>...</td>\n",
       "    </tr>\n",
       "    <tr>\n",
       "      <th>Gotye</th>\n",
       "      <td>1424591618</td>\n",
       "      <td>10576378</td>\n",
       "      <td>46</td>\n",
       "    </tr>\n",
       "    <tr>\n",
       "      <th>NIKI</th>\n",
       "      <td>1422920850</td>\n",
       "      <td>231405433</td>\n",
       "      <td>55</td>\n",
       "    </tr>\n",
       "    <tr>\n",
       "      <th>Duke Dumont</th>\n",
       "      <td>1422096182</td>\n",
       "      <td>24622115</td>\n",
       "      <td>121</td>\n",
       "    </tr>\n",
       "    <tr>\n",
       "      <th>Laura Pausini</th>\n",
       "      <td>1421622604</td>\n",
       "      <td>293291443</td>\n",
       "      <td>434</td>\n",
       "    </tr>\n",
       "    <tr>\n",
       "      <th>Beck</th>\n",
       "      <td>1420597420</td>\n",
       "      <td>83871063</td>\n",
       "      <td>300</td>\n",
       "    </tr>\n",
       "  </tbody>\n",
       "</table>\n",
       "<p>1000 rows × 3 columns</p>\n",
       "</div>"
      ],
      "text/plain": [
       "               Lead_Streams        Feats  Tracks\n",
       "Artist_Name                                     \n",
       "Drake           50162292808  19246513666     262\n",
       "Bad Bunny       44369032140   5391990975     163\n",
       "Ed Sheeran      38153682361   2791278201     240\n",
       "The Weeknd      34767779741   4288903657     186\n",
       "Taylor Swift    32596728109    424053296     323\n",
       "...                     ...          ...     ...\n",
       "Gotye            1424591618     10576378      46\n",
       "NIKI             1422920850    231405433      55\n",
       "Duke Dumont      1422096182     24622115     121\n",
       "Laura Pausini    1421622604    293291443     434\n",
       "Beck             1420597420     83871063     300\n",
       "\n",
       "[1000 rows x 3 columns]"
      ]
     },
     "execution_count": 80,
     "metadata": {},
     "output_type": "execute_result"
    }
   ],
   "source": [
    "import pandas as pd\n",
    "from sklearn.cluster import KMeans\n",
    "import matplotlib.pyplot as plt\n",
    "from sklearn.cluster import MiniBatchKMeans\n",
    "import numpy as np\n",
    "df=pd.read_csv('spotify_artist_data.csv')\n",
    "df.rename(columns={\"Artist Name\": 'Artist_Name', \"Lead Streams\": 'Lead_Streams'}, inplace=True)\n",
    "df['Lead_Streams'] = df['Lead_Streams'].str.replace(',', '')\n",
    "df['Feats'] = df['Feats'].str.replace(',', '') \n",
    "df['Tracks'] = df['Tracks'].str.replace(',', '') \n",
    "df['Lead_Streams'] = pd.to_numeric(df['Lead_Streams'])\n",
    "df['Feats'] = pd.to_numeric(df['Feats'])\n",
    "df['Tracks'] = pd.to_numeric(df['Tracks'])\n",
    "df.drop(['Unnamed: 0', 'One Billion', \"100 Million\", 'Last Updated'], axis=1, inplace=True)\n",
    "df.set_index(\"Artist_Name\", inplace=True, drop=True)\n",
    "df"
   ]
  },
  {
   "cell_type": "code",
   "execution_count": 81,
   "metadata": {},
   "outputs": [
    {
     "name": "stdout",
     "output_type": "stream",
     "text": [
      "<class 'pandas.core.frame.DataFrame'>\n",
      "Index: 1000 entries, Drake to Beck\n",
      "Data columns (total 3 columns):\n",
      " #   Column        Non-Null Count  Dtype\n",
      "---  ------        --------------  -----\n",
      " 0   Lead_Streams  1000 non-null   int64\n",
      " 1   Feats         1000 non-null   int64\n",
      " 2   Tracks        1000 non-null   int64\n",
      "dtypes: int64(3)\n",
      "memory usage: 31.2+ KB\n"
     ]
    }
   ],
   "source": [
    "df.info()"
   ]
  },
  {
   "cell_type": "code",
   "execution_count": 82,
   "metadata": {},
   "outputs": [],
   "source": [
    "artist_name_map = df.to_dict(orient='index')"
   ]
  },
  {
   "cell_type": "code",
   "execution_count": 84,
   "metadata": {},
   "outputs": [
    {
     "name": "stderr",
     "output_type": "stream",
     "text": [
      "C:\\Users\\jkleh\\AppData\\Local\\Packages\\PythonSoftwareFoundation.Python.3.11_qbz5n2kfra8p0\\LocalCache\\local-packages\\Python311\\site-packages\\sklearn\\cluster\\_kmeans.py:870: FutureWarning: The default value of `n_init` will change from 10 to 'auto' in 1.4. Set the value of `n_init` explicitly to suppress the warning\n",
      "  warnings.warn(\n",
      "C:\\Users\\jkleh\\AppData\\Local\\Packages\\PythonSoftwareFoundation.Python.3.11_qbz5n2kfra8p0\\LocalCache\\local-packages\\Python311\\site-packages\\sklearn\\cluster\\_kmeans.py:870: FutureWarning: The default value of `n_init` will change from 10 to 'auto' in 1.4. Set the value of `n_init` explicitly to suppress the warning\n",
      "  warnings.warn(\n",
      "C:\\Users\\jkleh\\AppData\\Local\\Packages\\PythonSoftwareFoundation.Python.3.11_qbz5n2kfra8p0\\LocalCache\\local-packages\\Python311\\site-packages\\sklearn\\cluster\\_kmeans.py:870: FutureWarning: The default value of `n_init` will change from 10 to 'auto' in 1.4. Set the value of `n_init` explicitly to suppress the warning\n",
      "  warnings.warn(\n",
      "C:\\Users\\jkleh\\AppData\\Local\\Packages\\PythonSoftwareFoundation.Python.3.11_qbz5n2kfra8p0\\LocalCache\\local-packages\\Python311\\site-packages\\sklearn\\cluster\\_kmeans.py:870: FutureWarning: The default value of `n_init` will change from 10 to 'auto' in 1.4. Set the value of `n_init` explicitly to suppress the warning\n",
      "  warnings.warn(\n",
      "C:\\Users\\jkleh\\AppData\\Local\\Packages\\PythonSoftwareFoundation.Python.3.11_qbz5n2kfra8p0\\LocalCache\\local-packages\\Python311\\site-packages\\sklearn\\cluster\\_kmeans.py:870: FutureWarning: The default value of `n_init` will change from 10 to 'auto' in 1.4. Set the value of `n_init` explicitly to suppress the warning\n",
      "  warnings.warn(\n",
      "C:\\Users\\jkleh\\AppData\\Local\\Packages\\PythonSoftwareFoundation.Python.3.11_qbz5n2kfra8p0\\LocalCache\\local-packages\\Python311\\site-packages\\sklearn\\cluster\\_kmeans.py:870: FutureWarning: The default value of `n_init` will change from 10 to 'auto' in 1.4. Set the value of `n_init` explicitly to suppress the warning\n",
      "  warnings.warn(\n",
      "C:\\Users\\jkleh\\AppData\\Local\\Packages\\PythonSoftwareFoundation.Python.3.11_qbz5n2kfra8p0\\LocalCache\\local-packages\\Python311\\site-packages\\sklearn\\cluster\\_kmeans.py:870: FutureWarning: The default value of `n_init` will change from 10 to 'auto' in 1.4. Set the value of `n_init` explicitly to suppress the warning\n",
      "  warnings.warn(\n",
      "C:\\Users\\jkleh\\AppData\\Local\\Packages\\PythonSoftwareFoundation.Python.3.11_qbz5n2kfra8p0\\LocalCache\\local-packages\\Python311\\site-packages\\sklearn\\cluster\\_kmeans.py:870: FutureWarning: The default value of `n_init` will change from 10 to 'auto' in 1.4. Set the value of `n_init` explicitly to suppress the warning\n",
      "  warnings.warn(\n",
      "C:\\Users\\jkleh\\AppData\\Local\\Packages\\PythonSoftwareFoundation.Python.3.11_qbz5n2kfra8p0\\LocalCache\\local-packages\\Python311\\site-packages\\sklearn\\cluster\\_kmeans.py:870: FutureWarning: The default value of `n_init` will change from 10 to 'auto' in 1.4. Set the value of `n_init` explicitly to suppress the warning\n",
      "  warnings.warn(\n"
     ]
    },
    {
     "data": {
      "image/png": "[encoded data removed]",
      "text/plain": [
       "<Figure size 640x480 with 1 Axes>"
      ]
     },
     "metadata": {},
     "output_type": "display_data"
    }
   ],
   "source": [
    "elbow_scores = dict()\n",
    "range_of_k = range(1,10) \n",
    "for k in range_of_k :\n",
    " untrained_model = KMeans(n_clusters=k)\n",
    " trained_model=untrained_model.fit(df)\n",
    " elbow_scores[k]=trained_model.inertia_\n",
    " \n",
    "plt.plot(elbow_scores.keys(),elbow_scores.values())\n",
    "plt.scatter(elbow_scores.keys(),elbow_scores.values())\n",
    "plt.xlabel(\"Values of K\") \n",
    "plt.ylabel(\"Sum of squared distances\") \n",
    "plt.show()\n",
    "\n",
    "\n"
   ]
  },
  {
   "cell_type": "code",
   "execution_count": 85,
   "metadata": {},
   "outputs": [
    {
     "name": "stdout",
     "output_type": "stream",
     "text": [
      "Cluster: 0 Size: 941\n",
      "\t Dermot Kennedy {'Lead_Streams': 2581422010, 'Feats': 0, 'Tracks': 78}\n",
      "\t Carrie Underwood {'Lead_Streams': 2287677862, 'Feats': 390796945, 'Tracks': 170}\n",
      "\t Julieta Venegas {'Lead_Streams': 1760785705, 'Feats': 701911855, 'Tracks': 152}\n",
      "\t Ofenbach {'Lead_Streams': 1550940003, 'Feats': 104912624, 'Tracks': 83}\n",
      "\t Céline Dion {'Lead_Streams': 3626954646, 'Feats': 952817602, 'Tracks': 492}\n",
      "Cluster: 1 Size: 59\n",
      "\t Marshmello {'Lead_Streams': 13049327287, 'Feats': 641714533, 'Tracks': 163}\n",
      "\t Bad Bunny {'Lead_Streams': 44369032140, 'Feats': 5391990975, 'Tracks': 163}\n",
      "\t Drake {'Lead_Streams': 50162292808, 'Feats': 19246513666, 'Tracks': 262}\n",
      "\t One Direction {'Lead_Streams': 15499795436, 'Feats': 0, 'Tracks': 124}\n",
      "\t Sam Smith {'Lead_Streams': 16883863013, 'Feats': 277349953, 'Tracks': 145}\n"
     ]
    },
    {
     "name": "stderr",
     "output_type": "stream",
     "text": [
      "C:\\Users\\jkleh\\AppData\\Local\\Packages\\PythonSoftwareFoundation.Python.3.11_qbz5n2kfra8p0\\LocalCache\\local-packages\\Python311\\site-packages\\sklearn\\cluster\\_kmeans.py:870: FutureWarning: The default value of `n_init` will change from 10 to 'auto' in 1.4. Set the value of `n_init` explicitly to suppress the warning\n",
      "  warnings.warn(\n"
     ]
    }
   ],
   "source": [
    "from sklearn.cluster import KMeans\n",
    "k = 2\n",
    "cluster_model = KMeans(n_clusters=k)\n",
    "cluster_model.fit(df)\n",
    "KMeans()\n",
    "cluster_labels = cluster_model.predict(df)\n",
    "artist_cluster_df = pd.DataFrame(cluster_labels, index=df.index, columns=[\"cluster\"])\n",
    "artist_cluster_df[\"cluster\"].value_counts()\n",
    "for cluster,actors in artist_cluster_df.groupby(\"cluster\"):\n",
    "    print(\"Cluster:\", cluster, \"Size:\", actors.shape[0])\n",
    "    \n",
    "    for a_id in actors.sample(5).index:\n",
    "        print(\"\\t\", a_id, artist_name_map[a_id])"
   ]
  }
 ],
 "metadata": {
  "kernelspec": {
   "display_name": "Python 3",
   "language": "python",
   "name": "python3"
  },
  "language_info": {
   "codemirror_mode": {
    "name": "ipython",
    "version": 3
   },
   "file_extension": ".py",
   "mimetype": "text/x-python",
   "name": "python",
   "nbconvert_exporter": "python",
   "pygments_lexer": "ipython3",
   "version": "3.11.3"
  },
  "orig_nbformat": 4
 },
 "nbformat": 4,
 "nbformat_minor": 2
}
